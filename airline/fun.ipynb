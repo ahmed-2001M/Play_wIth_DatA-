{
 "cells": [
  {
   "cell_type": "markdown",
   "id": "72801118",
   "metadata": {},
   "source": [
    "# Data Analysis Notebook"
   ]
  },
  {
   "cell_type": "code",
   "execution_count": null,
   "id": "95505fb6",
   "metadata": {},
   "outputs": [],
   "source": [
    "\n",
    "import pandas as pd\n",
    "import seaborn as sns\n",
    "import matplotlib.pyplot as plt\n",
    "import numpy as np\n",
    "import warnings\n",
    "import os\n",
    "warnings.filterwarnings('ignore')\n",
    "%matplotlib inline\n",
    "from IPython.display import Markdown\n",
    "    "
   ]
  },
  {
   "cell_type": "code",
   "execution_count": null,
   "id": "133d3d80",
   "metadata": {},
   "outputs": [],
   "source": [
    "\n",
    "\n",
    "def theme1():\n",
    "    plt.style.use('seaborn-v0_8-whitegrid')\n",
    "    custom_params = {\n",
    "        'figure.figsize': (15, 6),\n",
    "        'font.size': 16,\n",
    "        'font.weight': 'bold',\n",
    "        'axes.titlesize': 20,\n",
    "        'axes.labelsize': 18,\n",
    "        'xtick.labelsize': 14,\n",
    "        'ytick.labelsize': 14,\n",
    "        'axes.spines.top': False,\n",
    "        'axes.spines.right':False,\n",
    "\n",
    "    }\n",
    "    plt.rcParams.update(custom_params)\n",
    "    sns.set_palette([\"#c7522a\",\"#fbf2c4\",\"#008585\", \"#003f5c\", \"#58508d\", \"#ffa600\" , \"#660e60\",\"#6c584c\"])\n",
    "    \n",
    "    \n",
    "def theme2():\n",
    "    plt.style.use('seaborn-v0_8-dark-palette')\n",
    "    custom_params = {\n",
    "        'figure.figsize': (15, 6),\n",
    "        'font.size': 16,\n",
    "        'font.weight': 'bold',\n",
    "        'axes.titlesize': 20,\n",
    "        'axes.labelsize': 18,\n",
    "        'xtick.labelsize': 14,\n",
    "        'ytick.labelsize': 14,\n",
    "        'axes.spines.top': False,\n",
    "        'axes.spines.right':False,\n",
    "    }\n",
    "    plt.rcParams.update(custom_params)\n",
    "    sns.set_palette([\"#c7522a\",\"#fbf2c4\",\"#008585\", \"#003f5c\", \"#58508d\", \"#ffa600\", \"#660e60\",\"#6c584c\"])\n",
    "theme1()\n",
    "\n",
    "\n",
    "\n",
    "def doughnuts(data):\n",
    "    # Create a pieplot\n",
    "    plt.pie(x= data.values , labels=data.index , autopct='%.2f%%',shadow=True , startangle=90)\n",
    "    plt.axis('equal')\n",
    "    # plt.legend(loc='upper right')\n",
    "    # add a circle at the center to transform it in a donut chart\n",
    "    my_circle=plt.Circle( (0,0), 0.7, color='white')\n",
    "    p=plt.gcf()\n",
    "    p.gca().add_artist(my_circle)\n",
    "\n",
    "    return p\n",
    "\n",
    "\n",
    "\n",
    "\n",
    "    "
   ]
  },
  {
   "cell_type": "code",
   "execution_count": null,
   "id": "d9bf1829",
   "metadata": {},
   "outputs": [],
   "source": [
    "df = pd.read_csv(r'/home/fever/work/Data sets/Airline/train.csv')"
   ]
  },
  {
   "cell_type": "code",
   "execution_count": null,
   "id": "d0763fc9",
   "metadata": {},
   "outputs": [],
   "source": [
    "df.head()"
   ]
  },
  {
   "cell_type": "code",
   "execution_count": null,
   "id": "6976d2ca",
   "metadata": {},
   "outputs": [],
   "source": [
    "df.info()"
   ]
  },
  {
   "cell_type": "code",
   "execution_count": null,
   "id": "fc234c5a",
   "metadata": {},
   "outputs": [],
   "source": [
    "df.describe()"
   ]
  },
  {
   "cell_type": "code",
   "execution_count": null,
   "id": "a5464326",
   "metadata": {},
   "outputs": [],
   "source": [
    "\n",
    "    \n",
    "def null_percent(col):\n",
    "    percentage = round(col.isnull().sum()/len(col)*100,2)\n",
    "    if percentage > 0:\n",
    "        print(f'{col.name}==>{percentage} |', end=' ')\n",
    "print('+'*46)\n",
    "df.apply(null_percent)\n",
    "print()\n",
    "print('+'*46)\n",
    "fig, ax = plt.subplots(figsize=(15, 7))\n",
    "sns.heatmap(df.isnull(), yticklabels=False, cbar=False)\n",
    "\n",
    "\n",
    "    "
   ]
  },
  {
   "cell_type": "markdown",
   "id": "13146525",
   "metadata": {},
   "source": [
    "## Univariate Analysis"
   ]
  },
  {
   "cell_type": "markdown",
   "id": "5053085e",
   "metadata": {},
   "source": [
    "## Numerical Features"
   ]
  },
  {
   "cell_type": "markdown",
   "id": "cee0c60d",
   "metadata": {},
   "source": [
    "> Unnamed: 0"
   ]
  },
  {
   "cell_type": "code",
   "execution_count": null,
   "id": "fc30a749",
   "metadata": {},
   "outputs": [],
   "source": [
    "df['Unnamed: 0'].describe()"
   ]
  },
  {
   "cell_type": "code",
   "execution_count": null,
   "id": "c320f19b",
   "metadata": {},
   "outputs": [],
   "source": [
    "\n",
    "fig,ax = plt.subplot_mosaic([['hist','hist','box']])\n",
    "sns.histplot(data=df, x='Unnamed: 0', bins=30, kde=True, ax=ax['hist'])\n",
    "sns.boxplot(df['Unnamed: 0'],ax=ax['box'])\n",
    "plt.title('Unnamed: 0 Histogram')\n",
    "plt.show()\n",
    "        "
   ]
  },
  {
   "cell_type": "markdown",
   "id": "42060dea",
   "metadata": {},
   "source": [
    "> id"
   ]
  },
  {
   "cell_type": "code",
   "execution_count": null,
   "id": "48777e9b",
   "metadata": {},
   "outputs": [],
   "source": [
    "df['id'].describe()"
   ]
  },
  {
   "cell_type": "code",
   "execution_count": null,
   "id": "40efb73e",
   "metadata": {},
   "outputs": [],
   "source": [
    "\n",
    "fig,ax = plt.subplot_mosaic([['hist','hist','box']])\n",
    "sns.histplot(data=df, x='id', bins=30, kde=True, ax=ax['hist'])\n",
    "sns.boxplot(df['id'],ax=ax['box'])\n",
    "plt.title('id Histogram')\n",
    "plt.show()\n",
    "        "
   ]
  },
  {
   "cell_type": "markdown",
   "id": "fa01533a",
   "metadata": {},
   "source": [
    "> Age"
   ]
  },
  {
   "cell_type": "code",
   "execution_count": null,
   "id": "bf48b390",
   "metadata": {},
   "outputs": [],
   "source": [
    "df['Age'].describe()"
   ]
  },
  {
   "cell_type": "code",
   "execution_count": null,
   "id": "835e4eed",
   "metadata": {},
   "outputs": [],
   "source": [
    "\n",
    "fig,ax = plt.subplot_mosaic([['hist','hist','box']])\n",
    "sns.histplot(data=df, x='Age', bins=30, kde=True, ax=ax['hist'])\n",
    "sns.boxplot(df['Age'],ax=ax['box'])\n",
    "plt.title('Age Histogram')\n",
    "plt.show()\n",
    "        "
   ]
  },
  {
   "cell_type": "markdown",
   "id": "c8c0c532",
   "metadata": {},
   "source": [
    "> Flight Distance"
   ]
  },
  {
   "cell_type": "code",
   "execution_count": null,
   "id": "70ed9ccf",
   "metadata": {},
   "outputs": [],
   "source": [
    "df['Flight Distance'].describe()"
   ]
  },
  {
   "cell_type": "code",
   "execution_count": null,
   "id": "b2392e85",
   "metadata": {},
   "outputs": [],
   "source": [
    "\n",
    "fig,ax = plt.subplot_mosaic([['hist','hist','box']])\n",
    "sns.histplot(data=df, x='Flight Distance', bins=30, kde=True, ax=ax['hist'])\n",
    "sns.boxplot(df['Flight Distance'],ax=ax['box'])\n",
    "plt.title('Flight Distance Histogram')\n",
    "plt.show()\n",
    "        "
   ]
  },
  {
   "cell_type": "markdown",
   "id": "ad3bd83c",
   "metadata": {},
   "source": [
    "> Inflight wifi service"
   ]
  },
  {
   "cell_type": "code",
   "execution_count": null,
   "id": "6f1b7fe2",
   "metadata": {},
   "outputs": [],
   "source": [
    "df['Inflight wifi service'].describe()"
   ]
  },
  {
   "cell_type": "code",
   "execution_count": null,
   "id": "7e0581d7",
   "metadata": {},
   "outputs": [],
   "source": [
    "\n",
    "fig,ax = plt.subplot_mosaic([['hist','hist','box']])\n",
    "sns.histplot(data=df, x='Inflight wifi service', bins=30, kde=True, ax=ax['hist'])\n",
    "sns.boxplot(df['Inflight wifi service'],ax=ax['box'])\n",
    "plt.title('Inflight wifi service Histogram')\n",
    "plt.show()\n",
    "        "
   ]
  },
  {
   "cell_type": "markdown",
   "id": "bb49eebc",
   "metadata": {},
   "source": [
    "> Departure/Arrival time convenient"
   ]
  },
  {
   "cell_type": "code",
   "execution_count": null,
   "id": "f6aebcb9",
   "metadata": {},
   "outputs": [],
   "source": [
    "df['Departure/Arrival time convenient'].describe()"
   ]
  },
  {
   "cell_type": "code",
   "execution_count": null,
   "id": "eceeac83",
   "metadata": {},
   "outputs": [],
   "source": [
    "\n",
    "fig,ax = plt.subplot_mosaic([['hist','hist','box']])\n",
    "sns.histplot(data=df, x='Departure/Arrival time convenient', bins=30, kde=True, ax=ax['hist'])\n",
    "sns.boxplot(df['Departure/Arrival time convenient'],ax=ax['box'])\n",
    "plt.title('Departure/Arrival time convenient Histogram')\n",
    "plt.show()\n",
    "        "
   ]
  },
  {
   "cell_type": "markdown",
   "id": "f3c861c3",
   "metadata": {},
   "source": [
    "> Ease of Online booking"
   ]
  },
  {
   "cell_type": "code",
   "execution_count": null,
   "id": "25de3602",
   "metadata": {},
   "outputs": [],
   "source": [
    "df['Ease of Online booking'].describe()"
   ]
  },
  {
   "cell_type": "code",
   "execution_count": null,
   "id": "a2872ff9",
   "metadata": {},
   "outputs": [],
   "source": [
    "\n",
    "fig,ax = plt.subplot_mosaic([['hist','hist','box']])\n",
    "sns.histplot(data=df, x='Ease of Online booking', bins=30, kde=True, ax=ax['hist'])\n",
    "sns.boxplot(df['Ease of Online booking'],ax=ax['box'])\n",
    "plt.title('Ease of Online booking Histogram')\n",
    "plt.show()\n",
    "        "
   ]
  },
  {
   "cell_type": "markdown",
   "id": "3e7e4320",
   "metadata": {},
   "source": [
    "> Gate location"
   ]
  },
  {
   "cell_type": "code",
   "execution_count": null,
   "id": "ad1048ed",
   "metadata": {},
   "outputs": [],
   "source": [
    "df['Gate location'].describe()"
   ]
  },
  {
   "cell_type": "code",
   "execution_count": null,
   "id": "21f7f08e",
   "metadata": {},
   "outputs": [],
   "source": [
    "\n",
    "fig,ax = plt.subplot_mosaic([['hist','hist','box']])\n",
    "sns.histplot(data=df, x='Gate location', bins=30, kde=True, ax=ax['hist'])\n",
    "sns.boxplot(df['Gate location'],ax=ax['box'])\n",
    "plt.title('Gate location Histogram')\n",
    "plt.show()\n",
    "        "
   ]
  },
  {
   "cell_type": "markdown",
   "id": "7d0439c3",
   "metadata": {},
   "source": [
    "> Food and drink"
   ]
  },
  {
   "cell_type": "code",
   "execution_count": null,
   "id": "b2d5ec5c",
   "metadata": {},
   "outputs": [],
   "source": [
    "df['Food and drink'].describe()"
   ]
  },
  {
   "cell_type": "code",
   "execution_count": null,
   "id": "34a9f2a6",
   "metadata": {},
   "outputs": [],
   "source": [
    "\n",
    "fig,ax = plt.subplot_mosaic([['hist','hist','box']])\n",
    "sns.histplot(data=df, x='Food and drink', bins=30, kde=True, ax=ax['hist'])\n",
    "sns.boxplot(df['Food and drink'],ax=ax['box'])\n",
    "plt.title('Food and drink Histogram')\n",
    "plt.show()\n",
    "        "
   ]
  },
  {
   "cell_type": "markdown",
   "id": "2098cca9",
   "metadata": {},
   "source": [
    "> Online boarding"
   ]
  },
  {
   "cell_type": "code",
   "execution_count": null,
   "id": "615dcb20",
   "metadata": {},
   "outputs": [],
   "source": [
    "df['Online boarding'].describe()"
   ]
  },
  {
   "cell_type": "code",
   "execution_count": null,
   "id": "e09fcef6",
   "metadata": {},
   "outputs": [],
   "source": [
    "\n",
    "fig,ax = plt.subplot_mosaic([['hist','hist','box']])\n",
    "sns.histplot(data=df, x='Online boarding', bins=30, kde=True, ax=ax['hist'])\n",
    "sns.boxplot(df['Online boarding'],ax=ax['box'])\n",
    "plt.title('Online boarding Histogram')\n",
    "plt.show()\n",
    "        "
   ]
  },
  {
   "cell_type": "markdown",
   "id": "62ad6079",
   "metadata": {},
   "source": [
    "> Seat comfort"
   ]
  },
  {
   "cell_type": "code",
   "execution_count": null,
   "id": "e4a0fc47",
   "metadata": {},
   "outputs": [],
   "source": [
    "df['Seat comfort'].describe()"
   ]
  },
  {
   "cell_type": "code",
   "execution_count": null,
   "id": "6c7096df",
   "metadata": {},
   "outputs": [],
   "source": [
    "\n",
    "fig,ax = plt.subplot_mosaic([['hist','hist','box']])\n",
    "sns.histplot(data=df, x='Seat comfort', bins=30, kde=True, ax=ax['hist'])\n",
    "sns.boxplot(df['Seat comfort'],ax=ax['box'])\n",
    "plt.title('Seat comfort Histogram')\n",
    "plt.show()\n",
    "        "
   ]
  },
  {
   "cell_type": "markdown",
   "id": "a30f1944",
   "metadata": {},
   "source": [
    "> Inflight entertainment"
   ]
  },
  {
   "cell_type": "code",
   "execution_count": null,
   "id": "ab45d578",
   "metadata": {},
   "outputs": [],
   "source": [
    "df['Inflight entertainment'].describe()"
   ]
  },
  {
   "cell_type": "code",
   "execution_count": null,
   "id": "1b9e9601",
   "metadata": {},
   "outputs": [],
   "source": [
    "\n",
    "fig,ax = plt.subplot_mosaic([['hist','hist','box']])\n",
    "sns.histplot(data=df, x='Inflight entertainment', bins=30, kde=True, ax=ax['hist'])\n",
    "sns.boxplot(df['Inflight entertainment'],ax=ax['box'])\n",
    "plt.title('Inflight entertainment Histogram')\n",
    "plt.show()\n",
    "        "
   ]
  },
  {
   "cell_type": "markdown",
   "id": "0155ec99",
   "metadata": {},
   "source": [
    "> On-board service"
   ]
  },
  {
   "cell_type": "code",
   "execution_count": null,
   "id": "85748b05",
   "metadata": {},
   "outputs": [],
   "source": [
    "df['On-board service'].describe()"
   ]
  },
  {
   "cell_type": "code",
   "execution_count": null,
   "id": "19efdc3b",
   "metadata": {},
   "outputs": [],
   "source": [
    "\n",
    "fig,ax = plt.subplot_mosaic([['hist','hist','box']])\n",
    "sns.histplot(data=df, x='On-board service', bins=30, kde=True, ax=ax['hist'])\n",
    "sns.boxplot(df['On-board service'],ax=ax['box'])\n",
    "plt.title('On-board service Histogram')\n",
    "plt.show()\n",
    "        "
   ]
  },
  {
   "cell_type": "markdown",
   "id": "5d55544b",
   "metadata": {},
   "source": [
    "> Leg room service"
   ]
  },
  {
   "cell_type": "code",
   "execution_count": null,
   "id": "5632cd41",
   "metadata": {},
   "outputs": [],
   "source": [
    "df['Leg room service'].describe()"
   ]
  },
  {
   "cell_type": "code",
   "execution_count": null,
   "id": "8ca7c068",
   "metadata": {},
   "outputs": [],
   "source": [
    "\n",
    "fig,ax = plt.subplot_mosaic([['hist','hist','box']])\n",
    "sns.histplot(data=df, x='Leg room service', bins=30, kde=True, ax=ax['hist'])\n",
    "sns.boxplot(df['Leg room service'],ax=ax['box'])\n",
    "plt.title('Leg room service Histogram')\n",
    "plt.show()\n",
    "        "
   ]
  },
  {
   "cell_type": "markdown",
   "id": "6c157e16",
   "metadata": {},
   "source": [
    "> Baggage handling"
   ]
  },
  {
   "cell_type": "code",
   "execution_count": null,
   "id": "3f1b494a",
   "metadata": {},
   "outputs": [],
   "source": [
    "df['Baggage handling'].describe()"
   ]
  },
  {
   "cell_type": "code",
   "execution_count": null,
   "id": "519f5764",
   "metadata": {},
   "outputs": [],
   "source": [
    "\n",
    "fig,ax = plt.subplot_mosaic([['hist','hist','box']])\n",
    "sns.histplot(data=df, x='Baggage handling', bins=30, kde=True, ax=ax['hist'])\n",
    "sns.boxplot(df['Baggage handling'],ax=ax['box'])\n",
    "plt.title('Baggage handling Histogram')\n",
    "plt.show()\n",
    "        "
   ]
  },
  {
   "cell_type": "markdown",
   "id": "89c67de8",
   "metadata": {},
   "source": [
    "> Checkin service"
   ]
  },
  {
   "cell_type": "code",
   "execution_count": null,
   "id": "da603d0e",
   "metadata": {},
   "outputs": [],
   "source": [
    "df['Checkin service'].describe()"
   ]
  },
  {
   "cell_type": "code",
   "execution_count": null,
   "id": "920097e5",
   "metadata": {},
   "outputs": [],
   "source": [
    "\n",
    "fig,ax = plt.subplot_mosaic([['hist','hist','box']])\n",
    "sns.histplot(data=df, x='Checkin service', bins=30, kde=True, ax=ax['hist'])\n",
    "sns.boxplot(df['Checkin service'],ax=ax['box'])\n",
    "plt.title('Checkin service Histogram')\n",
    "plt.show()\n",
    "        "
   ]
  },
  {
   "cell_type": "markdown",
   "id": "0b809faa",
   "metadata": {},
   "source": [
    "> Inflight service"
   ]
  },
  {
   "cell_type": "code",
   "execution_count": null,
   "id": "47922ce1",
   "metadata": {},
   "outputs": [],
   "source": [
    "df['Inflight service'].describe()"
   ]
  },
  {
   "cell_type": "code",
   "execution_count": null,
   "id": "a021cad1",
   "metadata": {},
   "outputs": [],
   "source": [
    "\n",
    "fig,ax = plt.subplot_mosaic([['hist','hist','box']])\n",
    "sns.histplot(data=df, x='Inflight service', bins=30, kde=True, ax=ax['hist'])\n",
    "sns.boxplot(df['Inflight service'],ax=ax['box'])\n",
    "plt.title('Inflight service Histogram')\n",
    "plt.show()\n",
    "        "
   ]
  },
  {
   "cell_type": "markdown",
   "id": "f1909de4",
   "metadata": {},
   "source": [
    "> Cleanliness"
   ]
  },
  {
   "cell_type": "code",
   "execution_count": null,
   "id": "b306a95b",
   "metadata": {},
   "outputs": [],
   "source": [
    "df['Cleanliness'].describe()"
   ]
  },
  {
   "cell_type": "code",
   "execution_count": null,
   "id": "dba9edb1",
   "metadata": {},
   "outputs": [],
   "source": [
    "\n",
    "fig,ax = plt.subplot_mosaic([['hist','hist','box']])\n",
    "sns.histplot(data=df, x='Cleanliness', bins=30, kde=True, ax=ax['hist'])\n",
    "sns.boxplot(df['Cleanliness'],ax=ax['box'])\n",
    "plt.title('Cleanliness Histogram')\n",
    "plt.show()\n",
    "        "
   ]
  },
  {
   "cell_type": "markdown",
   "id": "7a5db9a5",
   "metadata": {},
   "source": [
    "> Departure Delay in Minutes"
   ]
  },
  {
   "cell_type": "code",
   "execution_count": null,
   "id": "0fd01c7c",
   "metadata": {},
   "outputs": [],
   "source": [
    "df['Departure Delay in Minutes'].describe()"
   ]
  },
  {
   "cell_type": "code",
   "execution_count": null,
   "id": "93ad7601",
   "metadata": {},
   "outputs": [],
   "source": [
    "\n",
    "fig,ax = plt.subplot_mosaic([['hist','hist','box']])\n",
    "sns.histplot(data=df, x='Departure Delay in Minutes', bins=30, kde=True, ax=ax['hist'])\n",
    "sns.boxplot(df['Departure Delay in Minutes'],ax=ax['box'])\n",
    "plt.title('Departure Delay in Minutes Histogram')\n",
    "plt.show()\n",
    "        "
   ]
  },
  {
   "cell_type": "markdown",
   "id": "eb6ca02e",
   "metadata": {},
   "source": [
    "> Arrival Delay in Minutes"
   ]
  },
  {
   "cell_type": "code",
   "execution_count": null,
   "id": "82cfcbf2",
   "metadata": {},
   "outputs": [],
   "source": [
    "df['Arrival Delay in Minutes'].describe()"
   ]
  },
  {
   "cell_type": "code",
   "execution_count": null,
   "id": "4a42f465",
   "metadata": {},
   "outputs": [],
   "source": [
    "\n",
    "fig,ax = plt.subplot_mosaic([['hist','hist','box']])\n",
    "sns.histplot(data=df, x='Arrival Delay in Minutes', bins=30, kde=True, ax=ax['hist'])\n",
    "sns.boxplot(df['Arrival Delay in Minutes'],ax=ax['box'])\n",
    "plt.title('Arrival Delay in Minutes Histogram')\n",
    "plt.show()\n",
    "        "
   ]
  },
  {
   "cell_type": "markdown",
   "id": "11eb9e9a",
   "metadata": {},
   "source": [
    "## Categorical Features"
   ]
  },
  {
   "cell_type": "markdown",
   "id": "3e85c988",
   "metadata": {},
   "source": [
    "> Gender"
   ]
  },
  {
   "cell_type": "code",
   "execution_count": null,
   "id": "fcf54097",
   "metadata": {},
   "outputs": [],
   "source": [
    "df['Gender'].describe()"
   ]
  },
  {
   "cell_type": "code",
   "execution_count": null,
   "id": "b897bac4",
   "metadata": {},
   "outputs": [],
   "source": [
    "\n",
    "fig,ax = plt.subplot_mosaic([['hist','hist','doughnut']])\n",
    "g= df['Gender'].value_counts()\n",
    "sns.barplot(x=g.index , y=g.values, ax=ax['hist'])\n",
    "ax['doughnut']=doughnuts(g)\n",
    "plt.show()\n",
    "\n",
    "        "
   ]
  },
  {
   "cell_type": "markdown",
   "id": "df958087",
   "metadata": {},
   "source": [
    "> Customer Type"
   ]
  },
  {
   "cell_type": "code",
   "execution_count": null,
   "id": "3474e15b",
   "metadata": {},
   "outputs": [],
   "source": [
    "df['Customer Type'].describe()"
   ]
  },
  {
   "cell_type": "code",
   "execution_count": null,
   "id": "5b48c561",
   "metadata": {},
   "outputs": [],
   "source": [
    "\n",
    "fig,ax = plt.subplot_mosaic([['hist','hist','doughnut']])\n",
    "g= df['Customer Type'].value_counts()\n",
    "sns.barplot(x=g.index , y=g.values, ax=ax['hist'])\n",
    "ax['doughnut']=doughnuts(g)\n",
    "plt.show()\n",
    "\n",
    "        "
   ]
  },
  {
   "cell_type": "markdown",
   "id": "dd2d3f93",
   "metadata": {},
   "source": [
    "> Type of Travel"
   ]
  },
  {
   "cell_type": "code",
   "execution_count": null,
   "id": "ad3d6ece",
   "metadata": {},
   "outputs": [],
   "source": [
    "df['Type of Travel'].describe()"
   ]
  },
  {
   "cell_type": "code",
   "execution_count": null,
   "id": "7db65d3c",
   "metadata": {},
   "outputs": [],
   "source": [
    "\n",
    "fig,ax = plt.subplot_mosaic([['hist','hist','doughnut']])\n",
    "g= df['Type of Travel'].value_counts()\n",
    "sns.barplot(x=g.index , y=g.values, ax=ax['hist'])\n",
    "ax['doughnut']=doughnuts(g)\n",
    "plt.show()\n",
    "\n",
    "        "
   ]
  },
  {
   "cell_type": "markdown",
   "id": "c1db5bbb",
   "metadata": {},
   "source": [
    "> Class"
   ]
  },
  {
   "cell_type": "code",
   "execution_count": null,
   "id": "72b4c1fe",
   "metadata": {},
   "outputs": [],
   "source": [
    "df['Class'].describe()"
   ]
  },
  {
   "cell_type": "code",
   "execution_count": null,
   "id": "7b567c5b",
   "metadata": {},
   "outputs": [],
   "source": [
    "\n",
    "fig,ax = plt.subplot_mosaic([['hist','hist','doughnut']])\n",
    "g= df['Class'].value_counts()\n",
    "sns.barplot(x=g.index , y=g.values, ax=ax['hist'])\n",
    "ax['doughnut']=doughnuts(g)\n",
    "plt.show()\n",
    "\n",
    "        "
   ]
  },
  {
   "cell_type": "markdown",
   "id": "f827a703",
   "metadata": {},
   "source": [
    "> satisfaction"
   ]
  },
  {
   "cell_type": "code",
   "execution_count": null,
   "id": "1441e16c",
   "metadata": {},
   "outputs": [],
   "source": [
    "df['satisfaction'].describe()"
   ]
  },
  {
   "cell_type": "code",
   "execution_count": null,
   "id": "4a39a2c2",
   "metadata": {},
   "outputs": [],
   "source": [
    "\n",
    "fig,ax = plt.subplot_mosaic([['hist','hist','doughnut']])\n",
    "g= df['satisfaction'].value_counts()\n",
    "sns.barplot(x=g.index , y=g.values, ax=ax['hist'])\n",
    "ax['doughnut']=doughnuts(g)\n",
    "plt.show()\n",
    "\n",
    "        "
   ]
  },
  {
   "cell_type": "markdown",
   "id": "2791da64",
   "metadata": {},
   "source": [
    "## Numerical Features With Errors"
   ]
  }
 ],
 "metadata": {},
 "nbformat": 4,
 "nbformat_minor": 5
}
